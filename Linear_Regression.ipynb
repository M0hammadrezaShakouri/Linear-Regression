{
 "cells": [
  {
   "cell_type": "code",
   "execution_count": 1,
   "id": "69f30f9e",
   "metadata": {},
   "outputs": [],
   "source": [
    "import numpy as np\n",
    "import pandas as pd\n",
    "import matplotlib.pyplot as plt\n",
    "import math\n",
    "import random\n"
   ]
  },
  {
   "cell_type": "markdown",
   "id": "07478e26",
   "metadata": {},
   "source": [
    "# read Data_Normal.txt\n"
   ]
  },
  {
   "cell_type": "code",
   "execution_count": 4,
   "id": "69d90ac2",
   "metadata": {},
   "outputs": [
    {
     "data": {
      "text/html": [
       "<div>\n",
       "<style scoped>\n",
       "    .dataframe tbody tr th:only-of-type {\n",
       "        vertical-align: middle;\n",
       "    }\n",
       "\n",
       "    .dataframe tbody tr th {\n",
       "        vertical-align: top;\n",
       "    }\n",
       "\n",
       "    .dataframe thead th {\n",
       "        text-align: right;\n",
       "    }\n",
       "</style>\n",
       "<table border=\"1\" class=\"dataframe\">\n",
       "  <thead>\n",
       "    <tr style=\"text-align: right;\">\n",
       "      <th></th>\n",
       "      <th>Bayas</th>\n",
       "      <th>Height</th>\n",
       "      <th>Weight</th>\n",
       "      <th>Male</th>\n",
       "    </tr>\n",
       "  </thead>\n",
       "  <tbody>\n",
       "    <tr>\n",
       "      <th>0</th>\n",
       "      <td>1</td>\n",
       "      <td>151.765</td>\n",
       "      <td>47.825606</td>\n",
       "      <td>1</td>\n",
       "    </tr>\n",
       "    <tr>\n",
       "      <th>1</th>\n",
       "      <td>1</td>\n",
       "      <td>139.700</td>\n",
       "      <td>36.485807</td>\n",
       "      <td>0</td>\n",
       "    </tr>\n",
       "    <tr>\n",
       "      <th>2</th>\n",
       "      <td>1</td>\n",
       "      <td>136.525</td>\n",
       "      <td>31.864838</td>\n",
       "      <td>0</td>\n",
       "    </tr>\n",
       "    <tr>\n",
       "      <th>3</th>\n",
       "      <td>1</td>\n",
       "      <td>156.845</td>\n",
       "      <td>53.041914</td>\n",
       "      <td>1</td>\n",
       "    </tr>\n",
       "    <tr>\n",
       "      <th>4</th>\n",
       "      <td>1</td>\n",
       "      <td>145.415</td>\n",
       "      <td>41.276872</td>\n",
       "      <td>0</td>\n",
       "    </tr>\n",
       "  </tbody>\n",
       "</table>\n",
       "</div>"
      ],
      "text/plain": [
       "   Bayas   Height     Weight  Male\n",
       "0      1  151.765  47.825606     1\n",
       "1      1  139.700  36.485807     0\n",
       "2      1  136.525  31.864838     0\n",
       "3      1  156.845  53.041914     1\n",
       "4      1  145.415  41.276872     0"
      ]
     },
     "execution_count": 4,
     "metadata": {},
     "output_type": "execute_result"
    }
   ],
   "source": [
    "data=pd.read_csv(\"./Data_Normal.txt\",sep=\";\",header=0,names=['Height','Weight','Male'] )\n",
    "data.insert(0,\"Bayas\",1)\n",
    "data.head()\n"
   ]
  },
  {
   "cell_type": "markdown",
   "id": "1070df7a",
   "metadata": {},
   "source": [
    "# read Data_With_Outlier.txt"
   ]
  },
  {
   "cell_type": "code",
   "execution_count": 5,
   "id": "c4531d04",
   "metadata": {},
   "outputs": [
    {
     "data": {
      "text/html": [
       "<div>\n",
       "<style scoped>\n",
       "    .dataframe tbody tr th:only-of-type {\n",
       "        vertical-align: middle;\n",
       "    }\n",
       "\n",
       "    .dataframe tbody tr th {\n",
       "        vertical-align: top;\n",
       "    }\n",
       "\n",
       "    .dataframe thead th {\n",
       "        text-align: right;\n",
       "    }\n",
       "</style>\n",
       "<table border=\"1\" class=\"dataframe\">\n",
       "  <thead>\n",
       "    <tr style=\"text-align: right;\">\n",
       "      <th></th>\n",
       "      <th>Bayas</th>\n",
       "      <th>Height</th>\n",
       "      <th>Weight</th>\n",
       "      <th>Male</th>\n",
       "    </tr>\n",
       "  </thead>\n",
       "  <tbody>\n",
       "    <tr>\n",
       "      <th>0</th>\n",
       "      <td>1</td>\n",
       "      <td>151.765</td>\n",
       "      <td>47.825606</td>\n",
       "      <td>1</td>\n",
       "    </tr>\n",
       "    <tr>\n",
       "      <th>1</th>\n",
       "      <td>1</td>\n",
       "      <td>139.700</td>\n",
       "      <td>36.485807</td>\n",
       "      <td>0</td>\n",
       "    </tr>\n",
       "    <tr>\n",
       "      <th>2</th>\n",
       "      <td>1</td>\n",
       "      <td>136.525</td>\n",
       "      <td>31.864838</td>\n",
       "      <td>0</td>\n",
       "    </tr>\n",
       "    <tr>\n",
       "      <th>3</th>\n",
       "      <td>1</td>\n",
       "      <td>156.845</td>\n",
       "      <td>53.041914</td>\n",
       "      <td>1</td>\n",
       "    </tr>\n",
       "    <tr>\n",
       "      <th>4</th>\n",
       "      <td>1</td>\n",
       "      <td>145.415</td>\n",
       "      <td>41.276872</td>\n",
       "      <td>0</td>\n",
       "    </tr>\n",
       "  </tbody>\n",
       "</table>\n",
       "</div>"
      ],
      "text/plain": [
       "   Bayas   Height     Weight  Male\n",
       "0      1  151.765  47.825606     1\n",
       "1      1  139.700  36.485807     0\n",
       "2      1  136.525  31.864838     0\n",
       "3      1  156.845  53.041914     1\n",
       "4      1  145.415  41.276872     0"
      ]
     },
     "execution_count": 5,
     "metadata": {},
     "output_type": "execute_result"
    }
   ],
   "source": [
    "data_outlier=pd.read_csv(\"./Data_With_Outlier.txt\",sep=\";\",header=0,names=['Height','Weight','Male'] )\n",
    "data_outlier.insert(0,\"Bayas\",1)\n",
    "data_outlier.head()"
   ]
  },
  {
   "cell_type": "markdown",
   "id": "94f020e9",
   "metadata": {},
   "source": [
    "#   normalaize the dataset\n",
    "\n"
   ]
  },
  {
   "cell_type": "code",
   "execution_count": 10,
   "id": "c3b1bdb7",
   "metadata": {},
   "outputs": [],
   "source": [
    "#normalized the first dataset :................................................\n",
    "height_min=data.Height.min()\n",
    "height_max=data.Height.max()\n",
    "weight_min=data.Weight.min()\n",
    "weight_max=data.Weight.max()\n",
    "def normalize_1(row):\n",
    "    row.Height= (row.Height - height_min)/(height_max-height_min)\n",
    "    row.Weight= (row.Weight - weight_min)/(weight_max -weight_min)    \n",
    "    return row\n",
    "\n",
    "Normal_data=data.apply(normalize_1,axis='columns')  \n",
    "\n",
    "#normalized the second dataset :................................................\n",
    "\n",
    "height_min_2=data_outlier.Height.min()\n",
    "height_max_2=data_outlier.Height.max()\n",
    "weight_min_2=data_outlier.Weight.min()\n",
    "weight_max_2=data_outlier.Weight.max()\n",
    "def normalize_2(row):\n",
    "    row.Height= (row.Height - height_min_2)/(height_max_2 - height_min_2)\n",
    "    row.Weight= (row.Weight - weight_min_2)/(weight_max_2 - weight_min_2)     \n",
    "    return row\n",
    "\n",
    "Normal_data_outlier =data_outlier.apply(normalize_2,axis='columns')\n",
    "\n",
    "  \n",
    "#Normal_data.describe()\n",
    "#Normal_data_outlier.describe()\n",
    "        \n"
   ]
  },
  {
   "cell_type": "markdown",
   "id": "01a6352f",
   "metadata": {},
   "source": [
    "# Implement  Regression Algorithm ::"
   ]
  },
  {
   "cell_type": "markdown",
   "id": "65d8e2cd",
   "metadata": {},
   "source": [
    "### In this class , I used two method for implement stochastic gradient descent and batch gradient descent that I denominated them as Fit and Fit_STC \n"
   ]
  },
  {
   "cell_type": "code",
   "execution_count": 11,
   "id": "3d13e329",
   "metadata": {},
   "outputs": [],
   "source": [
    "class Linear_Regression_EGD:\n",
    "    def __init__(self,x,y):\n",
    "        self.X=x\n",
    "        self.Y=y\n",
    "        self.M=len(y)\n",
    "        self.Weights=np.zeros((2,1))\n",
    "#weight 2*1\n",
    "        \n",
    "    def Fit(self,epochs,Learning_rate):\n",
    "        for i in range(epochs):\n",
    "            y_predicted=self.X@self.Weights   #y_predicted  60*2 @ 2*1 : 60*1\n",
    "            d_w=(1/self.M)*(self.X.T@(y_predicted-self.Y)) # 2*60 @ 60*1 : 2*1\n",
    "            self.Weights=self.Weights-Learning_rate*d_w\n",
    "            \n",
    "    def Fit_STC(self,epochs,Learning_rate):        \n",
    "        for i in range(epochs):                      \n",
    "            for j in range(self.M):                 \n",
    "                y_predicted=self.X[j].reshape((1,2))@self.Weights # 1*2 @ 2*1 : 1*1      \n",
    "                L=y_predicted-self.Y[j].reshape((-1,1))                 \n",
    "                d_w=(1/self.M)*(self.X[j].T.reshape((2,1))@(L))  # 2*1 @ 1*1:2*1\n",
    "                self.Weights=self.Weights-Learning_rate*d_w\n",
    "    \n",
    "    def Fit_Batch(self,epochs,Learning_rate):\n",
    "        for i in range(epochs):\n",
    "            y_predicted=self.X@self.Weights   #y_predicted  60*2 @ 2*1 : 60*1\n",
    "            d_w=(1/self.M)*sum(self.X.T@(y_predicted-self.Y)) # 2*60 @ 60*1 : 2*1\n",
    "            self.Weights=self.Weights-Learning_rate*d_w\n",
    "            \n",
    "            \n",
    "                                 \n",
    "        \n",
    "        \n",
    "    def Predict(self,x):\n",
    "        y_predict=x@self.Weights\n",
    "        return y_predict           \n",
    "        \n",
    "          \n",
    "    "
   ]
  },
  {
   "cell_type": "markdown",
   "id": "e0df03d3",
   "metadata": {},
   "source": [
    "# separate dataset into X as Height and Y as Weight"
   ]
  },
  {
   "cell_type": "markdown",
   "id": "f7f67830",
   "metadata": {},
   "source": [
    "### for the first dataset"
   ]
  },
  {
   "cell_type": "code",
   "execution_count": 12,
   "id": "a04bc4f6",
   "metadata": {},
   "outputs": [],
   "source": [
    "X = np.array(Normal_data.iloc[:,[0,1]],dtype=np.float64)\n",
    "Y = np.array(Normal_data.iloc[:, 2],dtype=np.float64).reshape((-1,1))\n",
    "\n",
    "Men_data=Normal_data.loc[Normal_data.Male==1]\n",
    "Women_data=Normal_data.loc[Normal_data.Male==0]\n",
    "\n"
   ]
  },
  {
   "cell_type": "markdown",
   "id": "b9963350",
   "metadata": {},
   "source": [
    "### for the second dataset"
   ]
  },
  {
   "cell_type": "code",
   "execution_count": 13,
   "id": "793f99ce",
   "metadata": {},
   "outputs": [],
   "source": [
    "X_outlier = np.array(Normal_data_outlier.iloc[:,[0,1]],dtype=np.float64)\n",
    "Y_outlier = np.array(Normal_data_outlier.iloc[:, 2],dtype=np.float64).reshape((-1,1))\n",
    "\n",
    "Men_data_outlier=Normal_data_outlier.loc[Normal_data_outlier.Male==1]\n",
    "Women_data_outlier=Normal_data_outlier.loc[Normal_data_outlier.Male==0]\n",
    "\n"
   ]
  },
  {
   "cell_type": "markdown",
   "id": "f672d34a",
   "metadata": {},
   "source": [
    "## obtaine stochastic gradient descent for regression model "
   ]
  },
  {
   "cell_type": "code",
   "execution_count": 14,
   "id": "cf80cec2",
   "metadata": {},
   "outputs": [],
   "source": [
    "#for the first dataset..........................................\n",
    "reg_model_data1=Linear_Regression_EGD(X,Y)\n",
    "# epochs is 2000 and Learning rate is 0.1\n",
    "reg_model_data1.Fit_STC(2000,0.01)\n",
    "y_p=reg_model_data1.Predict(X)\n",
    "#for the second dataset..........................................\n",
    "reg_model_data2=Linear_Regression_EGD(X_outlier,Y_outlier)\n",
    "# epochs is 2000 and Learning rate is 0.1\n",
    "reg_model_data2.Fit_STC(2000,0.01)\n",
    "y_outlier_P=reg_model_data2.Predict(X_outlier)"
   ]
  },
  {
   "cell_type": "markdown",
   "id": "124d7b72",
   "metadata": {},
   "source": [
    "### plot the first datasets for stochastic mode"
   ]
  },
  {
   "cell_type": "code",
   "execution_count": 15,
   "id": "76e9eb29",
   "metadata": {},
   "outputs": [
    {
     "data": {
      "image/png": "[encoded data removed]",
      "text/plain": [
       "<Figure size 720x432 with 1 Axes>"
      ]
     },
     "metadata": {
      "needs_background": "light"
     },
     "output_type": "display_data"
    }
   ],
   "source": [
    "plt.figure(figsize = (10,6))\n",
    "\n",
    "\n",
    "plt.scatter(Men_data.iloc[:,1],Men_data.iloc[:, 2], color = 'orange',label=\"Men\" )\n",
    "plt.scatter(Women_data.iloc[:,1],Women_data.iloc[:, 2], color = 'black' , label=\"women\")\n",
    "\n",
    "\n",
    "\n",
    "plt.plot(Normal_data.iloc[:,1] , y_p , color = 'g' , lw = 3,label=\"stochastic mode\")\n",
    "plt.xlabel('height' , size = 20)\n",
    "plt.ylabel('weight', size = 20)\n",
    "plt.legend()\n",
    "plt.show()"
   ]
  },
  {
   "cell_type": "markdown",
   "id": "028b48e2",
   "metadata": {},
   "source": [
    "##  plot the second datasets for stochastic mode"
   ]
  },
  {
   "cell_type": "code",
   "execution_count": 23,
   "id": "1874149e",
   "metadata": {},
   "outputs": [
    {
     "data": {
      "image/png": "[encoded data removed]",
      "text/plain": [
       "<Figure size 720x432 with 1 Axes>"
      ]
     },
     "metadata": {
      "needs_background": "light"
     },
     "output_type": "display_data"
    }
   ],
   "source": [
    "plt.figure(figsize = (10,6))\n",
    "plt.scatter(Men_data_outlier.iloc[:,1],Men_data_outlier.iloc[:, 2], color = 'orange',label=\"Men\" )\n",
    "plt.scatter(Women_data_outlier.iloc[:,1],Women_data_outlier.iloc[:, 2], color = 'black' , label=\"women\")\n",
    "plt.plot(Normal_data_outlier.iloc[:,1] , y_outlier_P , color = 'g' , lw = 3,label=\"stochastic mode\")\n",
    "plt.xlabel('height' , size = 20)\n",
    "plt.ylabel('weight', size = 20)\n",
    "plt.legend()\n",
    "plt.show()"
   ]
  },
  {
   "cell_type": "markdown",
   "id": "4af3955d",
   "metadata": {},
   "source": [
    "## obtaine batch gradient descent for regression model "
   ]
  },
  {
   "cell_type": "code",
   "execution_count": 24,
   "id": "a202c69b",
   "metadata": {},
   "outputs": [],
   "source": [
    "#for the first dataset..........................................\n",
    "reg_model2_data1=Linear_Regression_EGD(X,Y)\n",
    "# epochs is 2000 and Learning rate is 0.1\n",
    "reg_model2_data1.Fit_Batch(2000,0.01)\n",
    "y_pred_model2=reg_model2_data1.Predict(X)\n",
    "#for the second dataset..........................................\n",
    "reg_model2_data2=Linear_Regression_EGD(X_outlier,Y_outlier)\n",
    "# epochs is 2000 and Learning rate is 0.1\n",
    "reg_model2_data2.Fit_Batch(2000,0.01)\n",
    "y_outlier_Pred=reg_model2_data2.Predict(X_outlier)"
   ]
  },
  {
   "cell_type": "markdown",
   "id": "993d6864",
   "metadata": {},
   "source": [
    "### plot the first datasets for Batch mode"
   ]
  },
  {
   "cell_type": "code",
   "execution_count": 25,
   "id": "6d2d6855",
   "metadata": {},
   "outputs": [
    {
     "data": {
      "image/png": "[encoded data removed]",
      "text/plain": [
       "<Figure size 720x432 with 1 Axes>"
      ]
     },
     "metadata": {
      "needs_background": "light"
     },
     "output_type": "display_data"
    }
   ],
   "source": [
    "plt.figure(figsize = (10,6))\n",
    "plt.scatter(Men_data.iloc[:,1],Men_data.iloc[:, 2], color = 'orange',label=\"Men\" )\n",
    "plt.scatter(Women_data.iloc[:,1],Women_data.iloc[:, 2], color = 'black' , label=\"women\")\n",
    "plt.plot(Normal_data.iloc[:,1] , y_pred_model2,color = 'r' , lw = 3 , label=\"Batch mode\")\n",
    "plt.xlabel('height' , size = 20)\n",
    "plt.ylabel('weight', size = 20)\n",
    "plt.legend()\n",
    "plt.show()"
   ]
  },
  {
   "cell_type": "markdown",
   "id": "974357bb",
   "metadata": {},
   "source": [
    "## plot the first datasets for Batch mode"
   ]
  },
  {
   "cell_type": "code",
   "execution_count": 26,
   "id": "eced1369",
   "metadata": {},
   "outputs": [
    {
     "data": {
      "image/png": "[encoded data removed]",
      "text/plain": [
       "<Figure size 720x432 with 1 Axes>"
      ]
     },
     "metadata": {
      "needs_background": "light"
     },
     "output_type": "display_data"
    }
   ],
   "source": [
    "plt.figure(figsize = (10,6))\n",
    "plt.scatter(Men_data_outlier.iloc[:,1],Men_data_outlier.iloc[:, 2], color = 'orange',label=\"Men\" )\n",
    "plt.scatter(Women_data_outlier.iloc[:,1],Women_data_outlier.iloc[:, 2], color = 'black' , label=\"women\")\n",
    "plt.plot(Normal_data_outlier.iloc[:,1] , y_outlier_Pred,color = 'r' , lw = 3 , label=\"Batch mode\")\n",
    "plt.xlabel('height' , size = 20)\n",
    "plt.ylabel('weight', size = 20)\n",
    "plt.legend()\n",
    "plt.show()"
   ]
  },
  {
   "cell_type": "code",
   "execution_count": null,
   "id": "6a12b5ba",
   "metadata": {},
   "outputs": [],
   "source": []
  }
 ],
 "metadata": {
  "kernelspec": {
   "display_name": "Python 3 (ipykernel)",
   "language": "python",
   "name": "python3"
  },
  "language_info": {
   "codemirror_mode": {
    "name": "ipython",
    "version": 3
   },
   "file_extension": ".py",
   "mimetype": "text/x-python",
   "name": "python",
   "nbconvert_exporter": "python",
   "pygments_lexer": "ipython3",
   "version": "3.9.7"
  }
 },
 "nbformat": 4,
 "nbformat_minor": 5
}
